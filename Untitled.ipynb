{
 "cells": [
  {
   "cell_type": "code",
   "execution_count": 1,
   "id": "1170a245-2def-4258-bafb-c03477bfe9a9",
   "metadata": {},
   "outputs": [],
   "source": [
    "import numpy as np"
   ]
  },
  {
   "cell_type": "code",
   "execution_count": 6,
   "id": "f59b5d27-94ed-4781-868a-357d13ca048c",
   "metadata": {},
   "outputs": [],
   "source": [
    "d=np.array([1,2,3,4])"
   ]
  },
  {
   "cell_type": "code",
   "execution_count": 7,
   "id": "c7074e4d-fd31-4a2b-b147-556d7027d9e2",
   "metadata": {},
   "outputs": [
    {
     "data": {
      "text/plain": [
       "(4,)"
      ]
     },
     "execution_count": 7,
     "metadata": {},
     "output_type": "execute_result"
    }
   ],
   "source": [
    "d.shape\n"
   ]
  },
  {
   "cell_type": "code",
   "execution_count": 9,
   "id": "bc5ddf59-4c24-432f-9630-5244f3c826a4",
   "metadata": {},
   "outputs": [
    {
     "data": {
      "text/plain": [
       "dtype('int32')"
      ]
     },
     "execution_count": 9,
     "metadata": {},
     "output_type": "execute_result"
    }
   ],
   "source": [
    "d.dtype\n"
   ]
  },
  {
   "cell_type": "code",
   "execution_count": 11,
   "id": "2494dd62-3020-46a5-8f8e-784e1d591a2c",
   "metadata": {},
   "outputs": [],
   "source": [
    "d=np.array([\"Hello\",\"World\"])"
   ]
  },
  {
   "cell_type": "code",
   "execution_count": 12,
   "id": "0bc17352-3ab5-4f23-bb9e-29a2604dcf00",
   "metadata": {},
   "outputs": [
    {
     "data": {
      "text/plain": [
       "(2,)"
      ]
     },
     "execution_count": 12,
     "metadata": {},
     "output_type": "execute_result"
    }
   ],
   "source": [
    "d.shape"
   ]
  },
  {
   "cell_type": "code",
   "execution_count": 13,
   "id": "712b82eb-f095-45df-9d87-d1e8cf1308c2",
   "metadata": {},
   "outputs": [
    {
     "data": {
      "text/plain": [
       "dtype('<U5')"
      ]
     },
     "execution_count": 13,
     "metadata": {},
     "output_type": "execute_result"
    }
   ],
   "source": [
    "d.dtype\n"
   ]
  },
  {
   "cell_type": "code",
   "execution_count": 14,
   "id": "3d670749-df5d-4a22-a218-1e4586ae153e",
   "metadata": {},
   "outputs": [],
   "source": [
    "d=np.array([1,2,3,\"hello\"])"
   ]
  },
  {
   "cell_type": "code",
   "execution_count": 15,
   "id": "54643f37-7c42-44bc-ad75-b6a2eb32db85",
   "metadata": {},
   "outputs": [
    {
     "data": {
      "text/plain": [
       "(4,)"
      ]
     },
     "execution_count": 15,
     "metadata": {},
     "output_type": "execute_result"
    }
   ],
   "source": [
    "d.shape"
   ]
  },
  {
   "cell_type": "code",
   "execution_count": 16,
   "id": "86f35480-cfd6-4de8-837a-8bb25916a369",
   "metadata": {},
   "outputs": [
    {
     "data": {
      "text/plain": [
       "dtype('<U11')"
      ]
     },
     "execution_count": 16,
     "metadata": {},
     "output_type": "execute_result"
    }
   ],
   "source": [
    "d.dtype"
   ]
  },
  {
   "cell_type": "code",
   "execution_count": 17,
   "id": "b1b287e2-4718-405b-ad54-749410ab3d25",
   "metadata": {},
   "outputs": [],
   "source": [
    "s=np.array([[1,2,3,4],[5,6,7,8]])"
   ]
  },
  {
   "cell_type": "code",
   "execution_count": 18,
   "id": "697c2c9d-40c4-418c-9e72-8c968020afb1",
   "metadata": {},
   "outputs": [
    {
     "data": {
      "text/plain": [
       "(2, 4)"
      ]
     },
     "execution_count": 18,
     "metadata": {},
     "output_type": "execute_result"
    }
   ],
   "source": [
    "s.shape"
   ]
  },
  {
   "cell_type": "code",
   "execution_count": 21,
   "id": "7f6efd69-0e5d-4763-8500-c91413c61eef",
   "metadata": {},
   "outputs": [
    {
     "data": {
      "text/plain": [
       "(2, 4)"
      ]
     },
     "execution_count": 21,
     "metadata": {},
     "output_type": "execute_result"
    }
   ],
   "source": [
    "s.shape"
   ]
  },
  {
   "cell_type": "code",
   "execution_count": 22,
   "id": "8cb5aacd-093e-40c1-850f-31d0a25410cc",
   "metadata": {},
   "outputs": [
    {
     "data": {
      "text/plain": [
       "dtype('int32')"
      ]
     },
     "execution_count": 22,
     "metadata": {},
     "output_type": "execute_result"
    }
   ],
   "source": [
    "s.dtype"
   ]
  },
  {
   "cell_type": "code",
   "execution_count": 23,
   "id": "cc8c4132-703e-4e51-b2ef-79b663f2434a",
   "metadata": {},
   "outputs": [],
   "source": [
    "d=np.array([1,2,3,4.56])"
   ]
  },
  {
   "cell_type": "code",
   "execution_count": 24,
   "id": "a729cf3a-e4c9-4916-ae62-315b07ebc0c9",
   "metadata": {},
   "outputs": [
    {
     "data": {
      "text/plain": [
       "dtype('float64')"
      ]
     },
     "execution_count": 24,
     "metadata": {},
     "output_type": "execute_result"
    }
   ],
   "source": [
    "d.dtype"
   ]
  },
  {
   "cell_type": "code",
   "execution_count": 25,
   "id": "a01bc42d-0219-4c33-9772-f2b448bd2f30",
   "metadata": {},
   "outputs": [],
   "source": [
    "b=np.array([[1,2,3,4],[5,6,7,8],[10,11,12,13]])"
   ]
  },
  {
   "cell_type": "code",
   "execution_count": 26,
   "id": "2c6803f9-b2bb-4978-8c82-6a81f4065100",
   "metadata": {},
   "outputs": [
    {
     "data": {
      "text/plain": [
       "(3, 4)"
      ]
     },
     "execution_count": 26,
     "metadata": {},
     "output_type": "execute_result"
    }
   ],
   "source": [
    "b.shape"
   ]
  },
  {
   "cell_type": "code",
   "execution_count": 27,
   "id": "4854d803-a639-4077-96e3-cbcd6acb4add",
   "metadata": {},
   "outputs": [],
   "source": [
    "m=np.array([1.45,2.56,3.23,4.56])"
   ]
  },
  {
   "cell_type": "code",
   "execution_count": 28,
   "id": "34b77f07-2348-422c-b22a-a2a554351868",
   "metadata": {},
   "outputs": [
    {
     "data": {
      "text/plain": [
       "dtype('float64')"
      ]
     },
     "execution_count": 28,
     "metadata": {},
     "output_type": "execute_result"
    }
   ],
   "source": [
    "m.dtype"
   ]
  },
  {
   "cell_type": "code",
   "execution_count": null,
   "id": "e918d241-4d10-4e17-bac4-a2568017a02c",
   "metadata": {},
   "outputs": [],
   "source": []
  }
 ],
 "metadata": {
  "kernelspec": {
   "display_name": "Python 3 (ipykernel)",
   "language": "python",
   "name": "python3"
  },
  "language_info": {
   "codemirror_mode": {
    "name": "ipython",
    "version": 3
   },
   "file_extension": ".py",
   "mimetype": "text/x-python",
   "name": "python",
   "nbconvert_exporter": "python",
   "pygments_lexer": "ipython3",
   "version": "3.12.7"
  }
 },
 "nbformat": 4,
 "nbformat_minor": 5
}
